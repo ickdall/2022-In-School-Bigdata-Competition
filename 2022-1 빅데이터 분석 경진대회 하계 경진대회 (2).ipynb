{
 "cells": [
  {
   "cell_type": "code",
   "execution_count": 7,
   "id": "d8ac1859",
   "metadata": {},
   "outputs": [],
   "source": [
    "df =pd.read_csv('jump_goodwill.csv')"
   ]
  },
  {
   "cell_type": "code",
   "execution_count": 8,
   "id": "faa803f5",
   "metadata": {},
   "outputs": [],
   "source": [
    "df= df.drop(columns=['id'])"
   ]
  },
  {
   "cell_type": "code",
   "execution_count": 9,
   "id": "7cc2ef16",
   "metadata": {},
   "outputs": [
    {
     "name": "stdout",
     "output_type": "stream",
     "text": [
      "<class 'pandas.core.frame.DataFrame'>\n",
      "RangeIndex: 37400 entries, 0 to 37399\n",
      "Data columns (total 7 columns):\n",
      " #   Column         Non-Null Count  Dtype  \n",
      "---  ------         --------------  -----  \n",
      " 0   address        37400 non-null  object \n",
      " 1   store_type     37399 non-null  object \n",
      " 2   level          37400 non-null  object \n",
      " 3   area           37400 non-null  object \n",
      " 4   goodwill       37400 non-null  float64\n",
      " 5   sale_price     37400 non-null  float64\n",
      " 6   contract_date  37400 non-null  object \n",
      "dtypes: float64(2), object(5)\n",
      "memory usage: 2.0+ MB\n"
     ]
    }
   ],
   "source": [
    "df.info()"
   ]
  },
  {
   "cell_type": "code",
   "execution_count": 10,
   "id": "4d8be9e5",
   "metadata": {},
   "outputs": [],
   "source": [
    "# 권리금/판매액 *100 (권리금이 판매액의 몇퍼를 차지하는가 확인)\n",
    "df['real_sale_price_percent']=df['goodwill']/df['sale_price']*100"
   ]
  },
  {
   "cell_type": "code",
   "execution_count": 11,
   "id": "7bb6775f",
   "metadata": {},
   "outputs": [
    {
     "data": {
      "text/html": [
       "<div>\n",
       "<style scoped>\n",
       "    .dataframe tbody tr th:only-of-type {\n",
       "        vertical-align: middle;\n",
       "    }\n",
       "\n",
       "    .dataframe tbody tr th {\n",
       "        vertical-align: top;\n",
       "    }\n",
       "\n",
       "    .dataframe thead th {\n",
       "        text-align: right;\n",
       "    }\n",
       "</style>\n",
       "<table border=\"1\" class=\"dataframe\">\n",
       "  <thead>\n",
       "    <tr style=\"text-align: right;\">\n",
       "      <th></th>\n",
       "      <th>address</th>\n",
       "      <th>store_type</th>\n",
       "      <th>level</th>\n",
       "      <th>area</th>\n",
       "      <th>goodwill</th>\n",
       "      <th>sale_price</th>\n",
       "      <th>contract_date</th>\n",
       "      <th>real_sale_price_percent</th>\n",
       "    </tr>\n",
       "  </thead>\n",
       "  <tbody>\n",
       "    <tr>\n",
       "      <th>19468</th>\n",
       "      <td>경기남부 하남시 풍산동</td>\n",
       "      <td>NaN</td>\n",
       "      <td>1층</td>\n",
       "      <td>125.62㎡</td>\n",
       "      <td>5000.0</td>\n",
       "      <td>10000.0</td>\n",
       "      <td>2020-07-13 00:00:00</td>\n",
       "      <td>50.0</td>\n",
       "    </tr>\n",
       "  </tbody>\n",
       "</table>\n",
       "</div>"
      ],
      "text/plain": [
       "            address store_type level     area  goodwill  sale_price  \\\n",
       "19468  경기남부 하남시 풍산동        NaN    1층  125.62㎡    5000.0     10000.0   \n",
       "\n",
       "             contract_date  real_sale_price_percent  \n",
       "19468  2020-07-13 00:00:00                     50.0  "
      ]
     },
     "execution_count": 11,
     "metadata": {},
     "output_type": "execute_result"
    }
   ],
   "source": [
    "df[df['store_type'].isnull()]"
   ]
  },
  {
   "cell_type": "code",
   "execution_count": 12,
   "id": "66195edc",
   "metadata": {},
   "outputs": [],
   "source": [
    "# store_type 이 결측치인 경우(경기남부 하남시 풍산동) 삭제 37400 -> 37399\n",
    "df1 = df.dropna()"
   ]
  },
  {
   "cell_type": "markdown",
   "id": "aefaa9b0",
   "metadata": {},
   "source": [
    "### 소분류되어있는 store_type을 대분류로 변경 (d1으로 저장)"
   ]
  },
  {
   "cell_type": "code",
   "execution_count": 13,
   "id": "ffa70f13",
   "metadata": {},
   "outputs": [],
   "source": [
    "d1 = df1['store_type'].replace('한식점','일반음식점')\n",
    "d1 = d1.replace('일식집','일반음식점')\n",
    "d1 = d1.replace('레스토랑','일반음식점')\n",
    "d1 = d1.replace('중국집','일반음식점')\n",
    "d1 = d1.replace('생선회/해물','일반음식점')\n",
    "d1 = d1.replace('분식점','일반음식점')\n",
    "d1 = d1.replace('고깃집','일반음식점')\n",
    "d1 = d1.replace('돈까스/우동','일반음식점')\n",
    "d1 = d1.replace('기타음식점','일반음식점')\n",
    "d1 = d1.replace('제과점','휴게음식점')\n",
    "d1 = d1.replace('아이스크림점','휴게음식점')\n",
    "d1 = d1.replace('패스트푸드','휴게음식점')\n",
    "d1 = d1.replace('피자점','휴게음식점')\n",
    "d1 = d1.replace('커피점','휴게음식점')\n",
    "d1 = d1.replace('치킨점','휴게음식점')\n",
    "d1 = d1.replace('카페','휴게음식점')\n",
    "d1 = d1.replace('떡볶이/튀김','휴게음식점')\n",
    "d1 = d1.replace('기타휴게점','휴게음식점')\n",
    "d1 = d1.replace('바','주류점')\n",
    "d1 = d1.replace('맥주호프점','주류점')\n",
    "d1 = d1.replace('노래주점','주류점')\n",
    "d1 = d1.replace('이자카야','주류점')\n",
    "d1 = d1.replace('꼬치구이','주류점')\n",
    "d1 = d1.replace('실내포차','주류점')\n",
    "d1 = d1.replace('기타주점','주류점')\n",
    "d1 = d1.replace('노래방','오락스포츠')\n",
    "d1 = d1.replace('만화방','오락스포츠')\n",
    "d1 = d1.replace('PC방','오락스포츠')\n",
    "d1 = d1.replace('당구장','오락스포츠')\n",
    "d1 = d1.replace('골프연습장','오락스포츠')\n",
    "d1 = d1.replace('헬스클럽','오락스포츠')\n",
    "d1 = d1.replace('스크린골프장','오락스포츠')\n",
    "d1 = d1.replace('요가/필라테스','오락스포츠')\n",
    "d1 = d1.replace('기타오락스포츠','오락스포츠')\n",
    "d1 = d1.replace('의류판매점','판매업')\n",
    "d1 = d1.replace('화장품점','판매업')\n",
    "d1 = d1.replace('편의점','판매업')\n",
    "d1 = d1.replace('이동통신점','판매업')\n",
    "d1 = d1.replace('아이스크림 할인점','판매업')\n",
    "d1 = d1.replace('슈퍼마켓','판매업')\n",
    "d1 = d1.replace('문구팬시','판매업')\n",
    "d1 = d1.replace('1층다용도','판매업')\n",
    "d1 = d1.replace('기타판매점','판매업')\n",
    "d1 = d1.replace('피부미용','서비스업')\n",
    "d1 = d1.replace('미용실','서비스업')\n",
    "d1 = d1.replace('키즈카페','서비스업')\n",
    "d1 = d1.replace('네일아트','서비스업')\n",
    "d1 = d1.replace('마사지','서비스업')\n",
    "d1 = d1.replace('세차장/카센타','서비스업')\n",
    "d1 = d1.replace('빨래방','서비스업')\n",
    "d1 = d1.replace('독서실','서비스업')\n",
    "d1 = d1.replace('기타서비스업','서비스업')\n",
    "d1 = d1.replace('학원','기타업종')\n",
    "d1 = d1.replace('고시원','기타업종')\n",
    "d1 = d1.replace('모텔','기타업종')\n",
    "d1 = d1.replace('펜션','기타업종')\n",
    "d1 = d1.replace('사우나','기타업종')\n",
    "d1 = d1.replace('주유소','기타업종')\n",
    "d1 = d1.replace('병원/약국','기타업종')\n",
    "d1 = d1.replace('다용도점포','기타업종')\n",
    "d1 = d1.replace('기타창업모음','기타업종')\n",
    "d1 = pd.DataFrame(d1)"
   ]
  },
  {
   "cell_type": "markdown",
   "id": "10814a45",
   "metadata": {},
   "source": [
    "### df1의 'area' 열에서 단위 제거하여 df1_area라고 새로 생성  \n",
    "### df1의 area와 store_type 제거"
   ]
  },
  {
   "cell_type": "code",
   "execution_count": 14,
   "id": "72e0dea4",
   "metadata": {
    "scrolled": true
   },
   "outputs": [],
   "source": [
    "df1_area = df1['area'].str.replace('㎡', '')\n",
    "df1.drop(columns=['area','store_type'], inplace=True)"
   ]
  },
  {
   "cell_type": "markdown",
   "id": "34df99cf",
   "metadata": {},
   "source": [
    "### d1, df1_area를 df1에 concat"
   ]
  },
  {
   "cell_type": "code",
   "execution_count": 15,
   "id": "17be6f14",
   "metadata": {},
   "outputs": [],
   "source": [
    "df1 = pd.concat([df1, d1,df1_area], axis=1)"
   ]
  },
  {
   "cell_type": "markdown",
   "id": "dfd7d2f6",
   "metadata": {},
   "source": [
    "### df1의 'area'열을 float 화 시켜 소수점 2째자리까지 표시\n",
    "### '제곱미터당 권리금'을 소수점 2째자리까지 표시한 열 생성"
   ]
  },
  {
   "cell_type": "code",
   "execution_count": 16,
   "id": "bc1a5e85",
   "metadata": {
    "scrolled": true
   },
   "outputs": [],
   "source": [
    "df1['area'] = round(df1['area'].astype(float),2)\n",
    "df1['제곱미터당_권리금'] = round(df1['goodwill']/df1['area'],2)"
   ]
  },
  {
   "cell_type": "code",
   "execution_count": 17,
   "id": "e2557135",
   "metadata": {},
   "outputs": [],
   "source": [
    "import datetime"
   ]
  },
  {
   "cell_type": "markdown",
   "id": "8d961d3d",
   "metadata": {},
   "source": [
    "### contract_date를 날짜형식으로 변환 후 년,월만 보이도록하여 year_month 열 새로 생성"
   ]
  },
  {
   "cell_type": "code",
   "execution_count": 38,
   "id": "7cf1281e",
   "metadata": {},
   "outputs": [],
   "source": [
    "df1['year_month'] = df1['contract_date'].astype(str).str[:7]\n",
    "df1['year'] = df1['contract_date'].astype(str).str[:4]"
   ]
  },
  {
   "cell_type": "markdown",
   "id": "b06fd291",
   "metadata": {},
   "source": [
    "df1['Year'] = df1['contract_date'].dt.year \n",
    "df1['Month'] = df1['contract_date'].dt.month\n",
    "df1['day'] = df1['contract_date'].dt.day"
   ]
  },
  {
   "cell_type": "markdown",
   "id": "0911431d",
   "metadata": {},
   "source": [
    "### 주소를 스페이스를 기준으로 자름"
   ]
  },
  {
   "cell_type": "code",
   "execution_count": 19,
   "id": "6723f92e",
   "metadata": {
    "scrolled": true
   },
   "outputs": [
    {
     "data": {
      "text/plain": [
       "0             [경기남부, 부천시, 소사본동]\n",
       "1              [경기북부, 파주시, 동패동]\n",
       "2              [경기북부, 구리시, 갈매동]\n",
       "3         [경기남부, 안산시, 단원구, 선부동]\n",
       "4               [서울시, 양천구, 신월동]\n",
       "                  ...          \n",
       "37395    [경기남부, 용인시, 처인구, 김량장동]\n",
       "37396           [서울시, 강남구, 역삼동]\n",
       "37397           [서울시, 광진구, 자양동]\n",
       "37398           [서울시, 강서구, 화곡동]\n",
       "37399     [경기남부, 수원시, 장안구, 송죽동]\n",
       "Name: address, Length: 37399, dtype: object"
      ]
     },
     "execution_count": 19,
     "metadata": {},
     "output_type": "execute_result"
    }
   ],
   "source": [
    "address = df1['address'].apply(lambda x: str(x).split())\n",
    "address"
   ]
  },
  {
   "cell_type": "code",
   "execution_count": 20,
   "id": "435a05ad",
   "metadata": {},
   "outputs": [],
   "source": [
    "def address(x):\n",
    "    for i in range(0,len(df1)):\n",
    "        return str(x).split()[i]"
   ]
  },
  {
   "cell_type": "markdown",
   "id": "e837efa0",
   "metadata": {},
   "source": [
    "### df1의 address를 지역값을 '지역' 열로 생성\n",
    "### df1의 address를 시군구 값을 '시' 열로 생성"
   ]
  },
  {
   "cell_type": "code",
   "execution_count": 21,
   "id": "8241ec59",
   "metadata": {},
   "outputs": [],
   "source": [
    "df1['지역'] = df1['address'].apply(address)\n",
    "df1['시'] = df1.address.str.split(' ').str[1]"
   ]
  },
  {
   "cell_type": "markdown",
   "id": "758fee19",
   "metadata": {},
   "source": [
    "### df1의 '지역'이름을 특별시, 광역시 등으로 바꾸기"
   ]
  },
  {
   "cell_type": "code",
   "execution_count": 22,
   "id": "60d00a07",
   "metadata": {},
   "outputs": [],
   "source": [
    "df1['지역'] = df1['지역'].replace('서울시','서울특별시')\n",
    "df1['지역'] = df1['지역'].replace('경기남부','경기도')\n",
    "df1['지역'] = df1['지역'].replace('인천시','인천광역시')\n",
    "df1['지역'] = df1['지역'].replace('경기북부','경기도')\n",
    "df1['지역'] = df1['지역'].replace('부산시','부산광역시')\n",
    "df1['지역'] = df1['지역'].replace('대전시','대전광역시')\n",
    "df1['지역'] = df1['지역'].replace('세종시','세종특별자치시')\n",
    "df1['지역'] = df1['지역'].replace('제주도','제주특별자치도')\n",
    "df1['지역'] = df1['지역'].replace('울산시','울산광역시')\n",
    "df1['지역'] = df1['지역'].replace('대구시','대구광역시')\n",
    "df1['지역'] = df1['지역'].replace('광주시','광주광역시')"
   ]
  },
  {
   "cell_type": "markdown",
   "id": "6cb14e10",
   "metadata": {},
   "source": [
    "### df1에서 모든 데이터가 같은 중복 데이터 삭제 (37399 -> 35771)"
   ]
  },
  {
   "cell_type": "code",
   "execution_count": 23,
   "id": "aea8b26d",
   "metadata": {},
   "outputs": [],
   "source": [
    "df1 = df1.drop_duplicates()"
   ]
  },
  {
   "cell_type": "markdown",
   "id": "80c0c2e4",
   "metadata": {},
   "source": [
    "df1.to_csv('ddataset.csv', encoding='cp949')"
   ]
  },
  {
   "cell_type": "markdown",
   "id": "c412e523",
   "metadata": {},
   "source": [
    "### 엑셀에서 123층인 열 (1개) 123_1 , 123_2 , 123_3층으로 생성 후 파이썬으로 불러옴 (35771 -> 35773)"
   ]
  },
  {
   "cell_type": "code",
   "execution_count": 24,
   "id": "eb64608f",
   "metadata": {},
   "outputs": [],
   "source": [
    "df1 = pd.read_csv('ddataset.csv', encoding='cp949', index_col=0)"
   ]
  },
  {
   "cell_type": "markdown",
   "id": "e7bdd14d",
   "metadata": {},
   "source": [
    "### df1의 'level' 열 에서 지하층수는 수치 앞에 - 표시,\n",
    "### 문자인 층 제거\n",
    "### df1의 'level' 에서 층수를 수치화"
   ]
  },
  {
   "cell_type": "code",
   "execution_count": 25,
   "id": "f86ec7b0",
   "metadata": {},
   "outputs": [],
   "source": [
    "df1['level'] = df1['level'].replace('지하1층','-1층')\n",
    "df1['level'] = df1['level'].replace('지하2층','-2층')\n",
    "df1['level'] = df1['level'].replace('지하층층','-1층')\n",
    "df1['level'] = df1['level'].replace('100층','1층')\n",
    "df1['level'] = df1['level'].replace('01층','1층')\n",
    "df1['level'] = df1['level'].replace('지하3층','-3층')\n",
    "df1['level'] = df1['level'].replace('02층','2층')\n",
    "df1['level'] = df1['level'].replace('0층','1층')\n",
    "df1['level'] = df1['level'].replace('30층','3층')\n",
    "df1['level'] = df1['level'].replace('50층','5층')\n",
    "df1['level'] = df1['level'].replace('03층','3층')\n",
    "df1['level'] = df1['level'].replace('123_1층','1층')\n",
    "df1['level'] = df1['level'].replace('123_2층','2층')\n",
    "df1['level'] = df1['level'].replace('123_3층','3층')\n",
    "df1['level'] = df1['level'].str.replace('층', '')\n",
    "df1['level'] = round(df1['level'].astype(int),0)"
   ]
  },
  {
   "cell_type": "markdown",
   "id": "e640dc81",
   "metadata": {},
   "source": [
    "### df1의 '지역', '시'를 합친 '지역_시'생성"
   ]
  },
  {
   "cell_type": "code",
   "execution_count": 26,
   "id": "81fcef7a",
   "metadata": {},
   "outputs": [],
   "source": [
    "df1['지역_시'] = df1['지역']+' '+df1['시']"
   ]
  },
  {
   "cell_type": "markdown",
   "id": "ac744d07",
   "metadata": {},
   "source": [
    "# 지역별 유동인구 데이터 (pop)\n",
    "### df1 데이터와 합치기 위하여 pop 열이름변경\n",
    "### year_month를 년월까지만 표시하도록 슬라이싱"
   ]
  },
  {
   "cell_type": "code",
   "execution_count": 27,
   "id": "4905bc37",
   "metadata": {},
   "outputs": [],
   "source": [
    "pop = pd.read_csv('유동인구 최종.csv', encoding='cp949')\n",
    "pop.columns=['지역_시','year_month','popular']\n",
    "df1['year_month'] = df1['contract_date'].astype(str).str[:7]\n",
    "pop['year_month'] = pop['year_month'].astype(str).str[:7]"
   ]
  },
  {
   "cell_type": "markdown",
   "id": "294826e7",
   "metadata": {},
   "source": [
    "### df1 데이터와 pop 데이터를 '지역_시','year_month'열 기준으로 합침 -> df2로 이름\n",
    "### how = 'inner'로 주어 공통적으로 존재하는 값만 나둠 (35773 -> 35324)"
   ]
  },
  {
   "cell_type": "code",
   "execution_count": 28,
   "id": "a68188ae",
   "metadata": {
    "scrolled": true
   },
   "outputs": [],
   "source": [
    "df2 = pd.merge(df1,pop,on=['지역_시','year_month'], how='inner')"
   ]
  },
  {
   "cell_type": "markdown",
   "id": "e56d5f4b",
   "metadata": {},
   "source": [
    "### 제공 데이터의 'address'를 지오코딩을 활용하여 좌표 생성 -> xy로 호칭 명명\n",
    "### 기존의 df2 데이터와 xy 데이터를 merge 하여 df2 새로 생성 (35324 -> 35289)"
   ]
  },
  {
   "cell_type": "code",
   "execution_count": 29,
   "id": "29d94209",
   "metadata": {
    "scrolled": true
   },
   "outputs": [],
   "source": [
    "xy = pd.read_csv('지역좌표.csv', encoding = 'cp949', index_col=0)"
   ]
  },
  {
   "cell_type": "code",
   "execution_count": 30,
   "id": "1542e48d",
   "metadata": {},
   "outputs": [],
   "source": [
    "df2 = pd.merge(df2,xy,on='address', how='inner')"
   ]
  },
  {
   "cell_type": "markdown",
   "id": "9d4a6592",
   "metadata": {},
   "source": [
    "### 전국 대학교 개수 데이터 불러옴 (university)\n",
    "### university 의 columns = ['지역','year','Num'] 로 변경"
   ]
  },
  {
   "cell_type": "code",
   "execution_count": 31,
   "id": "8a01292b",
   "metadata": {},
   "outputs": [],
   "source": [
    "university = pd.read_csv('전국 대학교.csv', encoding = 'cp949')\n",
    "university.columns=['지역','year','Num']"
   ]
  },
  {
   "cell_type": "markdown",
   "id": "54f6e6c3",
   "metadata": {},
   "source": [
    "### df2 데이터와 university 데이터 를 지역과 year 기준으로 inner 조인"
   ]
  },
  {
   "cell_type": "code",
   "execution_count": 32,
   "id": "022ad31e",
   "metadata": {},
   "outputs": [],
   "source": [
    "df3 = pd.merge(df2,university,on=['지역','year'], how='inner')"
   ]
  },
  {
   "cell_type": "markdown",
   "id": "60a96ec1",
   "metadata": {},
   "source": [
    "### 전국 지하철주소 데이터를 지오코딩 한 데이터 불러옴 (station)\n",
    "### station의 columns = ['address','경도','위도']로 변경"
   ]
  },
  {
   "cell_type": "code",
   "execution_count": 33,
   "id": "d419a7eb",
   "metadata": {},
   "outputs": [],
   "source": [
    "station = pd.read_csv('지하철주소.csv', encoding='cp949')\n",
    "station.columns=['address','경도','위도']"
   ]
  },
  {
   "cell_type": "code",
   "execution_count": 34,
   "id": "c2a3d639",
   "metadata": {},
   "outputs": [],
   "source": [
    "from haversine import haversine # 좌표간 거리 계산 패키지"
   ]
  },
  {
   "cell_type": "markdown",
   "id": "65d2b816",
   "metadata": {},
   "source": [
    "### station 과 df2의 각각 경도, 위도 를 활용하여 거리의 최솟값 계산"
   ]
  },
  {
   "cell_type": "markdown",
   "id": "a82b8a74",
   "metadata": {
    "scrolled": true
   },
   "source": [
    "new = []\n",
    "for i in range(0,len(df3)):\n",
    "    distance = []\n",
    "    for j in range(0,len(station)):\n",
    "        distance.append(haversine((station['경도'][j], station['위도'][j]),\n",
    "                                  (df3['경도'][i], df3['위도'][i])))\n",
    "    s_distance = min(distance)\n",
    "    new.append(s_distance)"
   ]
  },
  {
   "cell_type": "markdown",
   "id": "0f260450",
   "metadata": {},
   "source": [
    "df3['distance'] = pd.DataFrame(new)"
   ]
  },
  {
   "cell_type": "markdown",
   "id": "3a85d508",
   "metadata": {},
   "source": [
    "### 코로나 데이터 covid 생성\n",
    "### 이름 변경\n",
    "### 세종시(세종특별자치시) 행 삭제"
   ]
  },
  {
   "cell_type": "code",
   "execution_count": 36,
   "id": "063af9db",
   "metadata": {},
   "outputs": [],
   "source": [
    "covid = pd.read_csv('코로나 완성.csv', encoding='cp949')\n",
    "covid.columns = ['year_month','지역','CovidNum']\n",
    "covid['year_month'] = covid['year_month'].astype(str).str[:7]\n",
    "\n",
    "covid_name = covid['지역'].replace('제주도','제주특별자치도')\n",
    "covid['지역'] = covid_name\n",
    "\n",
    "idx = covid[covid['지역'] == '세종시'].index\n",
    "covid = covid.drop(idx)"
   ]
  },
  {
   "cell_type": "markdown",
   "id": "0dbcddb0",
   "metadata": {},
   "source": [
    "### contract_date를 데이트타임으로 변경"
   ]
  },
  {
   "cell_type": "code",
   "execution_count": 39,
   "id": "d5e9e60f",
   "metadata": {},
   "outputs": [],
   "source": [
    "df3['contract_date'] = pd.to_datetime(df3['contract_date'])"
   ]
  },
  {
   "cell_type": "markdown",
   "id": "4fbe0022",
   "metadata": {},
   "source": [
    "### 코로나 전(df3_1), 후(df3_2) 데이터 구별\n",
    "#### 코로나 전 데이터에 CovidNum 생성하여 0으로 생성"
   ]
  },
  {
   "cell_type": "code",
   "execution_count": 40,
   "id": "e8572399",
   "metadata": {
    "scrolled": true
   },
   "outputs": [],
   "source": [
    "df3_1 = df3[df3['contract_date']<'2020-01-01']\n",
    "df3_1['CovidNum'] = 0\n",
    "\n",
    "df3_2 = df3[df3['contract_date']>='2020-01-01']"
   ]
  },
  {
   "cell_type": "markdown",
   "id": "afd7d136",
   "metadata": {},
   "source": [
    "### 코로나 후 데이터에 covid 데이터 merge"
   ]
  },
  {
   "cell_type": "code",
   "execution_count": 41,
   "id": "f4fb82b8",
   "metadata": {},
   "outputs": [],
   "source": [
    "df3_3 =pd.merge(df3_2,covid, on=['year_month','지역'], how='inner')"
   ]
  },
  {
   "cell_type": "code",
   "execution_count": 356,
   "id": "0d0ad8b7",
   "metadata": {
    "scrolled": true
   },
   "outputs": [],
   "source": [
    "df4 = pd.concat([df3_1,df3_3],axis=0)\n",
    "df4.reset_index(drop=True,inplace = True)"
   ]
  },
  {
   "cell_type": "markdown",
   "id": "2e7a0114",
   "metadata": {},
   "source": [
    "df4.to_csv('finaldata.csv',encoding='cp949',index=False)"
   ]
  },
  {
   "cell_type": "code",
   "execution_count": 357,
   "id": "919be0b5",
   "metadata": {},
   "outputs": [],
   "source": [
    "df4 = pd.read_csv('finaldata.csv',encoding = 'cp949')"
   ]
  },
  {
   "cell_type": "markdown",
   "id": "7cfb742d",
   "metadata": {},
   "source": [
    "# EDA"
   ]
  },
  {
   "cell_type": "code",
   "execution_count": 358,
   "id": "aceb0fde",
   "metadata": {},
   "outputs": [
    {
     "data": {
      "text/html": [
       "<div>\n",
       "<style scoped>\n",
       "    .dataframe tbody tr th:only-of-type {\n",
       "        vertical-align: middle;\n",
       "    }\n",
       "\n",
       "    .dataframe tbody tr th {\n",
       "        vertical-align: top;\n",
       "    }\n",
       "\n",
       "    .dataframe thead th {\n",
       "        text-align: right;\n",
       "    }\n",
       "</style>\n",
       "<table border=\"1\" class=\"dataframe\">\n",
       "  <thead>\n",
       "    <tr style=\"text-align: right;\">\n",
       "      <th></th>\n",
       "      <th>address</th>\n",
       "      <th>level</th>\n",
       "      <th>goodwill</th>\n",
       "      <th>sale_price</th>\n",
       "      <th>contract_date</th>\n",
       "      <th>real_sale_price_percent</th>\n",
       "      <th>store_type</th>\n",
       "      <th>area</th>\n",
       "      <th>제곱미터당_권리금</th>\n",
       "      <th>year_month</th>\n",
       "      <th>...</th>\n",
       "      <th>weekday</th>\n",
       "      <th>지역</th>\n",
       "      <th>시</th>\n",
       "      <th>지역_시</th>\n",
       "      <th>popular</th>\n",
       "      <th>경도</th>\n",
       "      <th>위도</th>\n",
       "      <th>Num</th>\n",
       "      <th>distance</th>\n",
       "      <th>CovidNum</th>\n",
       "    </tr>\n",
       "  </thead>\n",
       "  <tbody>\n",
       "    <tr>\n",
       "      <th>33722</th>\n",
       "      <td>경기남부 양평군 용문면</td>\n",
       "      <td>123</td>\n",
       "      <td>5000</td>\n",
       "      <td>8000</td>\n",
       "      <td>2020-02-01</td>\n",
       "      <td>62.5</td>\n",
       "      <td>휴게음식점</td>\n",
       "      <td>595.04</td>\n",
       "      <td>8.4</td>\n",
       "      <td>Feb-20</td>\n",
       "      <td>...</td>\n",
       "      <td>5</td>\n",
       "      <td>경기도</td>\n",
       "      <td>양평군</td>\n",
       "      <td>경기도 양평군</td>\n",
       "      <td>18</td>\n",
       "      <td>127.587014</td>\n",
       "      <td>37.514347</td>\n",
       "      <td>61</td>\n",
       "      <td>4.223953</td>\n",
       "      <td>74</td>\n",
       "    </tr>\n",
       "  </tbody>\n",
       "</table>\n",
       "<p>1 rows × 21 columns</p>\n",
       "</div>"
      ],
      "text/plain": [
       "            address  level  goodwill  sale_price contract_date  \\\n",
       "33722  경기남부 양평군 용문면    123      5000        8000    2020-02-01   \n",
       "\n",
       "       real_sale_price_percent store_type    area  제곱미터당_권리금 year_month  ...  \\\n",
       "33722                     62.5      휴게음식점  595.04        8.4     Feb-20  ...   \n",
       "\n",
       "       weekday   지역    시     지역_시 popular          경도         위도  Num  \\\n",
       "33722        5  경기도  양평군  경기도 양평군      18  127.587014  37.514347   61   \n",
       "\n",
       "       distance  CovidNum  \n",
       "33722  4.223953        74  \n",
       "\n",
       "[1 rows x 21 columns]"
      ]
     },
     "execution_count": 358,
     "metadata": {},
     "output_type": "execute_result"
    }
   ],
   "source": [
    "df4[df4['level']==123]"
   ]
  },
  {
   "cell_type": "code",
   "execution_count": 359,
   "id": "5a564607",
   "metadata": {},
   "outputs": [],
   "source": [
    "df4 = df4.drop(index=33722, axis=0)"
   ]
  },
  {
   "cell_type": "code",
   "execution_count": 360,
   "id": "25074973",
   "metadata": {
    "scrolled": false
   },
   "outputs": [
    {
     "name": "stdout",
     "output_type": "stream",
     "text": [
      "<class 'pandas.core.frame.DataFrame'>\n",
      "Int64Index: 35288 entries, 0 to 35288\n",
      "Data columns (total 21 columns):\n",
      " #   Column                   Non-Null Count  Dtype  \n",
      "---  ------                   --------------  -----  \n",
      " 0   address                  35288 non-null  object \n",
      " 1   level                    35288 non-null  int64  \n",
      " 2   goodwill                 35288 non-null  int64  \n",
      " 3   sale_price               35288 non-null  int64  \n",
      " 4   contract_date            35288 non-null  object \n",
      " 5   real_sale_price_percent  35288 non-null  float64\n",
      " 6   store_type               35288 non-null  object \n",
      " 7   area                     35288 non-null  float64\n",
      " 8   제곱미터당_권리금                35288 non-null  float64\n",
      " 9   year_month               35288 non-null  object \n",
      " 10  year                     35288 non-null  int64  \n",
      " 11  weekday                  35288 non-null  int64  \n",
      " 12  지역                       35288 non-null  object \n",
      " 13  시                        35288 non-null  object \n",
      " 14  지역_시                     35288 non-null  object \n",
      " 15  popular                  35288 non-null  int64  \n",
      " 16  경도                       35288 non-null  float64\n",
      " 17  위도                       35288 non-null  float64\n",
      " 18  Num                      35288 non-null  int64  \n",
      " 19  distance                 35288 non-null  float64\n",
      " 20  CovidNum                 35288 non-null  int64  \n",
      "dtypes: float64(6), int64(8), object(7)\n",
      "memory usage: 5.9+ MB\n"
     ]
    }
   ],
   "source": [
    "df4.info()"
   ]
  },
  {
   "cell_type": "code",
   "execution_count": 361,
   "id": "5ff4e652",
   "metadata": {
    "scrolled": false
   },
   "outputs": [
    {
     "data": {
      "image/png": "[encoded data removed]",
      "text/plain": [
       "<Figure size 720x720 with 1 Axes>"
      ]
     },
     "metadata": {
      "needs_background": "light"
     },
     "output_type": "display_data"
    }
   ],
   "source": [
    "# 수치형 데이터 간의 상관계수를 나타내는 히트맵\n",
    "df_corr = df4.corr()\n",
    "mask = np.zeros_like(df_corr)\n",
    "mask[np.triu_indices_from(mask)]=True\n",
    "plt.figure(figsize=(10,10))\n",
    "sns.heatmap(df_corr,annot=True, cmap='PiYG', fmt='.2f',center=0, mask= mask , cbar=False)\n",
    "plt.title(\"Heatmap of col's correlation\", fontsize=20)\n",
    "plt.show()"
   ]
  },
  {
   "cell_type": "code",
   "execution_count": 362,
   "id": "8d18041b",
   "metadata": {
    "scrolled": false
   },
   "outputs": [
    {
     "data": {
      "image/png": "[encoded data removed]",
      "text/plain": [
       "<Figure size 1080x2160 with 16 Axes>"
      ]
     },
     "metadata": {
      "needs_background": "light"
     },
     "output_type": "display_data"
    }
   ],
   "source": [
    "# 각 수치별 빈도\n",
    "df4.hist(figsize=(15,30))\n",
    "plt.show()"
   ]
  },
  {
   "cell_type": "code",
   "execution_count": 363,
   "id": "95dad2d4",
   "metadata": {},
   "outputs": [],
   "source": [
    "mean_price = df4.groupby(['store_type'])['goodwill'].mean().to_frame().sort_values(by='goodwill', ascending = False)\n",
    "mean_good = df4.groupby(['store_type'])['제곱미터당_권리금'].mean().to_frame().sort_values(by='제곱미터당_권리금', ascending = False)"
   ]
  },
  {
   "cell_type": "code",
   "execution_count": 364,
   "id": "82988fc1",
   "metadata": {
    "scrolled": false
   },
   "outputs": [
    {
     "data": {
      "image/png": "[encoded data removed]",
      "text/plain": [
       "<Figure size 720x720 with 1 Axes>"
      ]
     },
     "metadata": {
      "needs_background": "light"
     },
     "output_type": "display_data"
    },
    {
     "name": "stdout",
     "output_type": "stream",
     "text": [
      "\n",
      "\n"
     ]
    },
    {
     "data": {
      "image/png": "[encoded data removed]",
      "text/plain": [
       "<Figure size 720x720 with 1 Axes>"
      ]
     },
     "metadata": {
      "needs_background": "light"
     },
     "output_type": "display_data"
    }
   ],
   "source": [
    "# store_type 별 goodwill 내림차순\n",
    "plt.figure(figsize = (10,10))\n",
    "sns.barplot(data = mean_price , x=mean_price.index , y='goodwill')\n",
    "plt.xticks(rotation=45)\n",
    "plt.show()\n",
    "print('\\n')\n",
    "# store_type 별 제곱미터당_권리금 내림차순\n",
    "plt.figure(figsize = (10,10))\n",
    "sns.barplot(data = mean_good , x=mean_good.index , y='제곱미터당_권리금')\n",
    "plt.xticks(rotation=45)\n",
    "plt.show()"
   ]
  },
  {
   "cell_type": "code",
   "execution_count": 365,
   "id": "634e0367",
   "metadata": {
    "scrolled": false
   },
   "outputs": [
    {
     "data": {
      "image/png": "[encoded data removed]",
      "text/plain": [
       "<Figure size 720x720 with 1 Axes>"
      ]
     },
     "metadata": {
      "needs_background": "light"
     },
     "output_type": "display_data"
    },
    {
     "name": "stdout",
     "output_type": "stream",
     "text": [
      "\n",
      "\n"
     ]
    },
    {
     "data": {
      "image/png": "[encoded data removed]",
      "text/plain": [
       "<Figure size 720x720 with 1 Axes>"
      ]
     },
     "metadata": {
      "needs_background": "light"
     },
     "output_type": "display_data"
    }
   ],
   "source": [
    "# 연도별 goodwill 현황\n",
    "plt.figure(figsize=(10,10))\n",
    "sns.barplot(x = df4.year, y = df4.goodwill)\n",
    "plt.show()\n",
    "print('\\n')\n",
    "# 연도별 제곱미터당_권리금\n",
    "plt.figure(figsize=(10,10))\n",
    "sns.barplot(x=df4.year, y= df4.제곱미터당_권리금)\n",
    "plt.show()"
   ]
  },
  {
   "cell_type": "code",
   "execution_count": 366,
   "id": "12c509e1",
   "metadata": {},
   "outputs": [],
   "source": [
    "mean_price_2 = df4.groupby(['지역'])['goodwill'].mean().to_frame().sort_values(by='goodwill', ascending = False)\n",
    "mean_good_2 = df4.groupby(['지역'])['제곱미터당_권리금'].mean().to_frame().sort_values(by='제곱미터당_권리금', ascending = False)"
   ]
  },
  {
   "cell_type": "code",
   "execution_count": 367,
   "id": "dbc4245f",
   "metadata": {
    "scrolled": false
   },
   "outputs": [
    {
     "data": {
      "image/png": "[encoded data removed]",
      "text/plain": [
       "<Figure size 720x720 with 1 Axes>"
      ]
     },
     "metadata": {
      "needs_background": "light"
     },
     "output_type": "display_data"
    },
    {
     "name": "stdout",
     "output_type": "stream",
     "text": [
      "\n",
      "\n"
     ]
    },
    {
     "data": {
      "image/png": "[encoded data removed]",
      "text/plain": [
       "<Figure size 720x720 with 1 Axes>"
      ]
     },
     "metadata": {
      "needs_background": "light"
     },
     "output_type": "display_data"
    }
   ],
   "source": [
    "# 지역 별 goodwill 내림차순\n",
    "plt.figure(figsize = (10,10))\n",
    "sns.barplot(data = mean_price_2 , x=mean_price_2.index , y='goodwill')\n",
    "plt.xticks(rotation=45)\n",
    "plt.show()\n",
    "print('\\n')\n",
    "# 지역별 제곱미터당_권리금 내림차순\n",
    "plt.figure(figsize = (10,10))\n",
    "sns.barplot(data = mean_good_2 , x=mean_good_2.index , y='제곱미터당_권리금')\n",
    "plt.xticks(rotation=45)\n",
    "plt.show()"
   ]
  },
  {
   "cell_type": "code",
   "execution_count": 368,
   "id": "05fe5f93",
   "metadata": {
    "scrolled": false
   },
   "outputs": [
    {
     "data": {
      "image/png": "[encoded data removed]",
      "text/plain": [
       "<Figure size 1080x720 with 1 Axes>"
      ]
     },
     "metadata": {
      "needs_background": "light"
     },
     "output_type": "display_data"
    },
    {
     "name": "stdout",
     "output_type": "stream",
     "text": [
      "\n",
      "\n"
     ]
    },
    {
     "data": {
      "image/png": "[encoded data removed]",
      "text/plain": [
       "<Figure size 1080x720 with 1 Axes>"
      ]
     },
     "metadata": {
      "needs_background": "light"
     },
     "output_type": "display_data"
    }
   ],
   "source": [
    "plt.figure(figsize=(15,10))\n",
    "sns.boxplot(x=df4.year, y= df4.goodwill)\n",
    "plt.show()\n",
    "print('\\n')\n",
    "plt.figure(figsize=(15,10))\n",
    "sns.boxplot(x=df4.year, y= df4.제곱미터당_권리금)\n",
    "plt.show()"
   ]
  },
  {
   "cell_type": "code",
   "execution_count": 369,
   "id": "e877a2b9",
   "metadata": {},
   "outputs": [],
   "source": [
    "df4[df4['제곱미터당_권리금']>12000]\n",
    "df4 = df4.drop(index=19873, axis=0)"
   ]
  },
  {
   "cell_type": "code",
   "execution_count": 370,
   "id": "aea986fd",
   "metadata": {},
   "outputs": [],
   "source": [
    "df4.reset_index(drop=True,inplace = True)"
   ]
  },
  {
   "cell_type": "markdown",
   "id": "96704926",
   "metadata": {},
   "source": [
    "df4.to_csv('미안해.csv',encoding='cp949', index=False)"
   ]
  },
  {
   "cell_type": "markdown",
   "id": "d6a94860",
   "metadata": {},
   "source": [
    "# 모델링 전 사전 처리"
   ]
  },
  {
   "cell_type": "code",
   "execution_count": 120,
   "id": "88b2535b",
   "metadata": {},
   "outputs": [
    {
     "name": "stdout",
     "output_type": "stream",
     "text": [
      "<class 'pandas.core.frame.DataFrame'>\n",
      "RangeIndex: 35287 entries, 0 to 35286\n",
      "Data columns (total 21 columns):\n",
      " #   Column                   Non-Null Count  Dtype  \n",
      "---  ------                   --------------  -----  \n",
      " 0   address                  35287 non-null  object \n",
      " 1   level                    35287 non-null  int64  \n",
      " 2   goodwill                 35287 non-null  int64  \n",
      " 3   sale_price               35287 non-null  int64  \n",
      " 4   contract_date            35287 non-null  object \n",
      " 5   real_sale_price_percent  35287 non-null  float64\n",
      " 6   store_type               35287 non-null  object \n",
      " 7   area                     35287 non-null  float64\n",
      " 8   제곱미터당_권리금                35287 non-null  float64\n",
      " 9   year_month               35287 non-null  object \n",
      " 10  year                     35287 non-null  int64  \n",
      " 11  weekday                  35287 non-null  int64  \n",
      " 12  지역                       35287 non-null  object \n",
      " 13  시                        35287 non-null  object \n",
      " 14  지역_시                     35287 non-null  object \n",
      " 15  popular                  35287 non-null  int64  \n",
      " 16  경도                       35287 non-null  float64\n",
      " 17  위도                       35287 non-null  float64\n",
      " 18  Num                      35287 non-null  int64  \n",
      " 19  distance                 35287 non-null  float64\n",
      " 20  CovidNum                 35287 non-null  int64  \n",
      "dtypes: float64(6), int64(8), object(7)\n",
      "memory usage: 5.7+ MB\n"
     ]
    }
   ],
   "source": [
    "df4.info()"
   ]
  },
  {
   "cell_type": "code",
   "execution_count": 372,
   "id": "ad046a81",
   "metadata": {},
   "outputs": [],
   "source": [
    "# 모델에 필요없다 생각하는 열 삭제\n",
    "df4_1 = df4.drop(columns=['address','sale_price','contract_date','real_sale_price_percent','area',\n",
    "                          'weekday','지역','year_month','year','시','지역_시','경도','위도'])"
   ]
  },
  {
   "cell_type": "code",
   "execution_count": 373,
   "id": "b089ca72",
   "metadata": {
    "scrolled": false
   },
   "outputs": [
    {
     "data": {
      "image/png": "[encoded data removed]",
      "text/plain": [
       "<Figure size 1080x1080 with 1 Axes>"
      ]
     },
     "metadata": {
      "needs_background": "light"
     },
     "output_type": "display_data"
    }
   ],
   "source": [
    "df_corr = df4_1.corr()\n",
    "mask = np.zeros_like(df_corr)\n",
    "mask[np.triu_indices_from(mask)]=True\n",
    "plt.figure(figsize=(15,15))\n",
    "sns.heatmap(df_corr,annot=True, cmap='PiYG', fmt='.2f',center=0, mask= mask , cbar=False)\n",
    "plt.title(\"Heatmap of col's correlation\", fontsize=20)\n",
    "plt.show()"
   ]
  },
  {
   "cell_type": "code",
   "execution_count": 439,
   "id": "88c0a86a",
   "metadata": {},
   "outputs": [],
   "source": [
    "from sklearn.model_selection import train_test_split # 분할\n",
    "from sklearn.model_selection import cross_val_score, cross_validate,KFold #교차검증\n",
    "from sklearn.preprocessing import MinMaxScaler # 정규화\n",
    "from sklearn.model_selection import GridSearchCV # grid\n",
    "from sklearn.preprocessing import RobustScaler # 정규화\n",
    "\n",
    "# 모델\n",
    "from sklearn import linear_model\n",
    "from sklearn.linear_model import LinearRegression # 선형 회귀분석\n",
    "from sklearn.ensemble import RandomForestRegressor # 랜포 \n",
    "from sklearn.linear_model import Ridge, Lasso # ridge, lasso 선형\n",
    "from xgboost import XGBRegressor # 앙상블 모델(부스팅)\n",
    "import xgboost as xgb  #시각화\n",
    "from xgboost import plot_tree # xgboost 시각화 함수\n",
    "from matplotlib.pylab import rcParams\n",
    "# 성능 평가\n",
    "from sklearn.metrics import mean_squared_error# mse\n",
    "from sklearn.metrics import r2_score"
   ]
  },
  {
   "cell_type": "markdown",
   "id": "a51cb96e",
   "metadata": {},
   "source": [
    "## 더미화(원-핫인코딩)"
   ]
  },
  {
   "cell_type": "code",
   "execution_count": 375,
   "id": "d3b64a16",
   "metadata": {},
   "outputs": [
    {
     "name": "stdout",
     "output_type": "stream",
     "text": [
      "<class 'pandas.core.frame.DataFrame'>\n",
      "RangeIndex: 35287 entries, 0 to 35286\n",
      "Data columns (total 8 columns):\n",
      " #   Column      Non-Null Count  Dtype  \n",
      "---  ------      --------------  -----  \n",
      " 0   level       35287 non-null  int64  \n",
      " 1   goodwill    35287 non-null  int64  \n",
      " 2   store_type  35287 non-null  object \n",
      " 3   제곱미터당_권리금   35287 non-null  float64\n",
      " 4   popular     35287 non-null  int64  \n",
      " 5   Num         35287 non-null  int64  \n",
      " 6   distance    35287 non-null  float64\n",
      " 7   CovidNum    35287 non-null  int64  \n",
      "dtypes: float64(2), int64(5), object(1)\n",
      "memory usage: 2.2+ MB\n"
     ]
    }
   ],
   "source": [
    "df4_1.info()"
   ]
  },
  {
   "cell_type": "code",
   "execution_count": 376,
   "id": "b42b51ee",
   "metadata": {},
   "outputs": [],
   "source": [
    "df4_1 = pd.get_dummies(df4_1, columns = ['store_type'])"
   ]
  },
  {
   "cell_type": "code",
   "execution_count": 377,
   "id": "1c0c5daa",
   "metadata": {},
   "outputs": [
    {
     "name": "stdout",
     "output_type": "stream",
     "text": [
      "<class 'pandas.core.frame.DataFrame'>\n",
      "RangeIndex: 35287 entries, 0 to 35286\n",
      "Data columns (total 15 columns):\n",
      " #   Column            Non-Null Count  Dtype  \n",
      "---  ------            --------------  -----  \n",
      " 0   level             35287 non-null  int64  \n",
      " 1   goodwill          35287 non-null  int64  \n",
      " 2   제곱미터당_권리금         35287 non-null  float64\n",
      " 3   popular           35287 non-null  int64  \n",
      " 4   Num               35287 non-null  int64  \n",
      " 5   distance          35287 non-null  float64\n",
      " 6   CovidNum          35287 non-null  int64  \n",
      " 7   store_type_기타업종   35287 non-null  uint8  \n",
      " 8   store_type_서비스업   35287 non-null  uint8  \n",
      " 9   store_type_오락스포츠  35287 non-null  uint8  \n",
      " 10  store_type_일반음식점  35287 non-null  uint8  \n",
      " 11  store_type_일식점    35287 non-null  uint8  \n",
      " 12  store_type_주류점    35287 non-null  uint8  \n",
      " 13  store_type_판매업    35287 non-null  uint8  \n",
      " 14  store_type_휴게음식점  35287 non-null  uint8  \n",
      "dtypes: float64(2), int64(5), uint8(8)\n",
      "memory usage: 2.2 MB\n"
     ]
    }
   ],
   "source": [
    "df4_1.info()"
   ]
  },
  {
   "cell_type": "markdown",
   "id": "598a82e1",
   "metadata": {},
   "source": [
    "# 정규화"
   ]
  },
  {
   "cell_type": "code",
   "execution_count": 382,
   "id": "1d8d868a",
   "metadata": {},
   "outputs": [],
   "source": [
    "features = ['level','goodwill','제곱미터당_권리금','popular','Num','distance','CovidNum']\n",
    "scaler = MinMaxScaler()\n",
    "df4_1[features]=scaler.fit_transform(df4_1[features])"
   ]
  },
  {
   "cell_type": "code",
   "execution_count": 485,
   "id": "90bd719e",
   "metadata": {},
   "outputs": [],
   "source": [
    "X = df4_1.drop(['goodwill','store_type_오락스포츠'],axis=1)\n",
    "y = df4_1['goodwill']"
   ]
  },
  {
   "cell_type": "code",
   "execution_count": 486,
   "id": "8708ec96",
   "metadata": {},
   "outputs": [],
   "source": [
    "X_train, X_test, y_train, y_test = train_test_split(X,y, test_size=0.3,random_state=42)"
   ]
  },
  {
   "cell_type": "markdown",
   "id": "33cd19ca",
   "metadata": {},
   "source": [
    "# 일반 선형"
   ]
  },
  {
   "cell_type": "code",
   "execution_count": 385,
   "id": "0f44071c",
   "metadata": {},
   "outputs": [
    {
     "data": {
      "text/plain": [
       "LinearRegression()"
      ]
     },
     "execution_count": 385,
     "metadata": {},
     "output_type": "execute_result"
    }
   ],
   "source": [
    "lor = LinearRegression()\n",
    "lor.fit(X_train,y_train)"
   ]
  },
  {
   "cell_type": "code",
   "execution_count": 386,
   "id": "30fc1c8a",
   "metadata": {},
   "outputs": [
    {
     "name": "stdout",
     "output_type": "stream",
     "text": [
      "RMSE :  0.0298160479061187\n",
      "r2_score :  0.29385180556612545\n"
     ]
    }
   ],
   "source": [
    "y_pred = lor.predict(X_test)\n",
    "print('RMSE : ',mean_squared_error(y_pred,y_test, squared=False))\n",
    "print('r2_score : ',r2_score(y_test, y_pred))"
   ]
  },
  {
   "cell_type": "code",
   "execution_count": 387,
   "id": "85f735ac",
   "metadata": {
    "scrolled": true
   },
   "outputs": [
    {
     "name": "stdout",
     "output_type": "stream",
     "text": [
      "goodwill =\n",
      "0.0457 * level +\n",
      "0.6131 * 제곱미터당_권리금 +\n",
      "-0.005 * popular +\n",
      "0.0004 * Num +\n",
      "0.0118 * distance +\n",
      "0.0002 * CovidNum +\n",
      "-0.0168 * store_type_기타업종 +\n",
      "-0.0163 * store_type_서비스업 +\n",
      "-0.0114 * store_type_일반음식점 +\n",
      "-0.015 * store_type_일식점 +\n",
      "-0.0111 * store_type_주류점 +\n",
      "-0.0247 * store_type_판매업 +\n",
      "-0.0195 * store_type_휴게음식점\n"
     ]
    }
   ],
   "source": [
    "print('goodwill =')\n",
    "for i in range(len(X.columns)):\n",
    "    if i != len(X.columns) -1:\n",
    "        print(round(lor.coef_[i],4), '*', X.columns[i], '+')\n",
    "    else:\n",
    "        print(round(lor.coef_[i],4), '*', X.columns[i])"
   ]
  },
  {
   "cell_type": "markdown",
   "id": "48866ae4",
   "metadata": {},
   "source": [
    "# ridge"
   ]
  },
  {
   "cell_type": "code",
   "execution_count": 389,
   "id": "d9fde5e6",
   "metadata": {},
   "outputs": [],
   "source": [
    "ridge = Ridge()"
   ]
  },
  {
   "cell_type": "code",
   "execution_count": 390,
   "id": "7f655178",
   "metadata": {},
   "outputs": [
    {
     "name": "stdout",
     "output_type": "stream",
     "text": [
      "RMSE :  0.02982400441889835\n",
      "r2_score :  0.2934748792339833\n"
     ]
    }
   ],
   "source": [
    "ridge.fit(X_train,y_train)\n",
    "y_pred = ridge.predict(X_test)\n",
    "print('RMSE : ',mean_squared_error(y_pred,y_test, squared=False))\n",
    "print('r2_score : ',r2_score(y_test, y_pred))"
   ]
  },
  {
   "cell_type": "code",
   "execution_count": 391,
   "id": "227456f1",
   "metadata": {},
   "outputs": [
    {
     "name": "stdout",
     "output_type": "stream",
     "text": [
      "goodwill =\n",
      "0.044 * level +\n",
      "0.5807 * 제곱미터당_권리금 +\n",
      "-0.0048 * popular +\n",
      "0.0004 * Num +\n",
      "0.0117 * distance +\n",
      "0.0003 * CovidNum +\n",
      "-0.0168 * store_type_기타업종 +\n",
      "-0.0162 * store_type_서비스업 +\n",
      "-0.011 * store_type_일반음식점 +\n",
      "-0.0145 * store_type_일식점 +\n",
      "-0.0108 * store_type_주류점 +\n",
      "-0.0243 * store_type_판매업 +\n",
      "-0.0187 * store_type_휴게음식점\n"
     ]
    }
   ],
   "source": [
    "print('goodwill =')\n",
    "for i in range(len(X.columns)):\n",
    "    if i != len(X.columns) -1:\n",
    "        print(round(ridge.coef_[i],4), '*', X.columns[i], '+')\n",
    "    else:\n",
    "        print(round(ridge.coef_[i],4), '*', X.columns[i])"
   ]
  },
  {
   "cell_type": "code",
   "execution_count": 321,
   "id": "b6202f02",
   "metadata": {},
   "outputs": [
    {
     "data": {
      "text/plain": [
       "31809.6"
      ]
     },
     "execution_count": 321,
     "metadata": {},
     "output_type": "execute_result"
    }
   ],
   "source": [
    "0.2*(df4['goodwill'].max()-df4['goodwill'].min())+df4['goodwill'].min()"
   ]
  },
  {
   "cell_type": "markdown",
   "id": "b55717d0",
   "metadata": {},
   "source": [
    "# XGBoost"
   ]
  },
  {
   "cell_type": "code",
   "execution_count": 499,
   "id": "75799909",
   "metadata": {},
   "outputs": [],
   "source": [
    "xgb = XGBRegressor(n_estimators=200, max_depth=6,\n",
    "                     eta=0.1, subsample=0.8, colsample_bytree=0.8)"
   ]
  },
  {
   "cell_type": "code",
   "execution_count": 500,
   "id": "88d5af8c",
   "metadata": {},
   "outputs": [
    {
     "name": "stdout",
     "output_type": "stream",
     "text": [
      "RMSE :  0.0273415597358582\n",
      "r2_score :  0.4061971610433852\n"
     ]
    }
   ],
   "source": [
    "xgb.fit(X_train,y_train)\n",
    "y_pred = xgb.predict(X_test)\n",
    "print('RMSE : ',mean_squared_error(y_pred,y_test, squared=False))\n",
    "print('r2_score : ',r2_score(y_test, y_pred))"
   ]
  },
  {
   "cell_type": "code",
   "execution_count": 495,
   "id": "b77ae3a9",
   "metadata": {},
   "outputs": [
    {
     "data": {
      "image/png": "[encoded data removed]",
      "text/plain": [
       "<Figure size 576x432 with 1 Axes>"
      ]
     },
     "metadata": {
      "needs_background": "light"
     },
     "output_type": "display_data"
    }
   ],
   "source": [
    "xgb_importances_values = xgb.feature_importances_\n",
    "xgb_importances = pd.Series(xgb_importances_values, index= X_train.columns)\n",
    "xgb_top = xgb_importances.sort_values(ascending=False)\n",
    "plt.figure(figsize=(8,6))\n",
    "plt.title(' Feature Importances')\n",
    "sns.barplot(x=xgb_top, y=xgb_top.index)\n",
    "plt.show()"
   ]
  },
  {
   "cell_type": "code",
   "execution_count": 496,
   "id": "3a731957",
   "metadata": {},
   "outputs": [
    {
     "data": {
      "text/html": [
       "<div>\n",
       "<style scoped>\n",
       "    .dataframe tbody tr th:only-of-type {\n",
       "        vertical-align: middle;\n",
       "    }\n",
       "\n",
       "    .dataframe tbody tr th {\n",
       "        vertical-align: top;\n",
       "    }\n",
       "\n",
       "    .dataframe thead th {\n",
       "        text-align: right;\n",
       "    }\n",
       "</style>\n",
       "<table border=\"1\" class=\"dataframe\">\n",
       "  <thead>\n",
       "    <tr style=\"text-align: right;\">\n",
       "      <th></th>\n",
       "      <th>Feature importances</th>\n",
       "    </tr>\n",
       "  </thead>\n",
       "  <tbody>\n",
       "    <tr>\n",
       "      <th>제곱미터당_권리금</th>\n",
       "      <td>0.1744</td>\n",
       "    </tr>\n",
       "    <tr>\n",
       "      <th>level</th>\n",
       "      <td>0.1277</td>\n",
       "    </tr>\n",
       "    <tr>\n",
       "      <th>Num</th>\n",
       "      <td>0.0942</td>\n",
       "    </tr>\n",
       "    <tr>\n",
       "      <th>store_type_판매업</th>\n",
       "      <td>0.0857</td>\n",
       "    </tr>\n",
       "    <tr>\n",
       "      <th>store_type_일반음식점</th>\n",
       "      <td>0.0833</td>\n",
       "    </tr>\n",
       "    <tr>\n",
       "      <th>store_type_휴게음식점</th>\n",
       "      <td>0.0784</td>\n",
       "    </tr>\n",
       "    <tr>\n",
       "      <th>store_type_서비스업</th>\n",
       "      <td>0.0769</td>\n",
       "    </tr>\n",
       "    <tr>\n",
       "      <th>store_type_기타업종</th>\n",
       "      <td>0.0594</td>\n",
       "    </tr>\n",
       "    <tr>\n",
       "      <th>CovidNum</th>\n",
       "      <td>0.0533</td>\n",
       "    </tr>\n",
       "    <tr>\n",
       "      <th>store_type_주류점</th>\n",
       "      <td>0.0452</td>\n",
       "    </tr>\n",
       "    <tr>\n",
       "      <th>distance</th>\n",
       "      <td>0.0426</td>\n",
       "    </tr>\n",
       "    <tr>\n",
       "      <th>popular</th>\n",
       "      <td>0.0400</td>\n",
       "    </tr>\n",
       "    <tr>\n",
       "      <th>store_type_일식점</th>\n",
       "      <td>0.0389</td>\n",
       "    </tr>\n",
       "  </tbody>\n",
       "</table>\n",
       "</div>"
      ],
      "text/plain": [
       "                  Feature importances\n",
       "제곱미터당_권리금                      0.1744\n",
       "level                          0.1277\n",
       "Num                            0.0942\n",
       "store_type_판매업                 0.0857\n",
       "store_type_일반음식점               0.0833\n",
       "store_type_휴게음식점               0.0784\n",
       "store_type_서비스업                0.0769\n",
       "store_type_기타업종                0.0594\n",
       "CovidNum                       0.0533\n",
       "store_type_주류점                 0.0452\n",
       "distance                       0.0426\n",
       "popular                        0.0400\n",
       "store_type_일식점                 0.0389"
      ]
     },
     "execution_count": 496,
     "metadata": {},
     "output_type": "execute_result"
    }
   ],
   "source": [
    "pd.DataFrame(round((xgb_top),4),columns=['Feature importances'])"
   ]
  },
  {
   "cell_type": "markdown",
   "id": "a6c24d99",
   "metadata": {},
   "source": [
    "# "
   ]
  },
  {
   "cell_type": "markdown",
   "id": "4acf392d",
   "metadata": {},
   "source": [
    "# "
   ]
  },
  {
   "cell_type": "markdown",
   "id": "fa5a6521",
   "metadata": {},
   "source": [
    "# Random Forest"
   ]
  },
  {
   "cell_type": "code",
   "execution_count": 352,
   "id": "f48dd5f6",
   "metadata": {
    "scrolled": true
   },
   "outputs": [
    {
     "data": {
      "text/plain": [
       "RandomForestRegressor(max_depth=8, min_samples_leaf=8, min_samples_split=8,\n",
       "                      n_estimators=200, random_state=0)"
      ]
     },
     "execution_count": 352,
     "metadata": {},
     "output_type": "execute_result"
    }
   ],
   "source": [
    "rf = RandomForestRegressor(random_state=0,max_depth = 8, min_samples_leaf = 8,\n",
    "                           min_samples_split = 8, n_estimators = 200)\n",
    "rf.fit(X_train,y_train)"
   ]
  },
  {
   "cell_type": "code",
   "execution_count": 335,
   "id": "5d3b89a8",
   "metadata": {},
   "outputs": [
    {
     "name": "stdout",
     "output_type": "stream",
     "text": [
      "RMSE :  0.027743139525738085\n",
      "r2_score :  0.38862607810127137\n"
     ]
    }
   ],
   "source": [
    "y_pred = rf.predict(X_test)\n",
    "print('RMSE : ',mean_squared_error(y_pred,y_test, squared=False))\n",
    "print('r2_score : ',r2_score(y_test, y_pred))"
   ]
  },
  {
   "cell_type": "code",
   "execution_count": 354,
   "id": "a16eade6",
   "metadata": {},
   "outputs": [
    {
     "data": {
      "text/html": [
       "<div>\n",
       "<style scoped>\n",
       "    .dataframe tbody tr th:only-of-type {\n",
       "        vertical-align: middle;\n",
       "    }\n",
       "\n",
       "    .dataframe tbody tr th {\n",
       "        vertical-align: top;\n",
       "    }\n",
       "\n",
       "    .dataframe thead th {\n",
       "        text-align: right;\n",
       "    }\n",
       "</style>\n",
       "<table border=\"1\" class=\"dataframe\">\n",
       "  <thead>\n",
       "    <tr style=\"text-align: right;\">\n",
       "      <th></th>\n",
       "      <th>Feature importances</th>\n",
       "    </tr>\n",
       "  </thead>\n",
       "  <tbody>\n",
       "    <tr>\n",
       "      <th>제곱미터당_권리금</th>\n",
       "      <td>0.6629</td>\n",
       "    </tr>\n",
       "    <tr>\n",
       "      <th>level</th>\n",
       "      <td>0.1975</td>\n",
       "    </tr>\n",
       "    <tr>\n",
       "      <th>distance</th>\n",
       "      <td>0.0400</td>\n",
       "    </tr>\n",
       "    <tr>\n",
       "      <th>popular</th>\n",
       "      <td>0.0249</td>\n",
       "    </tr>\n",
       "    <tr>\n",
       "      <th>CovidNum</th>\n",
       "      <td>0.0243</td>\n",
       "    </tr>\n",
       "    <tr>\n",
       "      <th>store_type_일반음식점</th>\n",
       "      <td>0.0228</td>\n",
       "    </tr>\n",
       "    <tr>\n",
       "      <th>Num</th>\n",
       "      <td>0.0090</td>\n",
       "    </tr>\n",
       "    <tr>\n",
       "      <th>store_type_서비스업</th>\n",
       "      <td>0.0070</td>\n",
       "    </tr>\n",
       "    <tr>\n",
       "      <th>store_type_휴게음식점</th>\n",
       "      <td>0.0053</td>\n",
       "    </tr>\n",
       "    <tr>\n",
       "      <th>store_type_주류점</th>\n",
       "      <td>0.0028</td>\n",
       "    </tr>\n",
       "    <tr>\n",
       "      <th>store_type_기타업종</th>\n",
       "      <td>0.0019</td>\n",
       "    </tr>\n",
       "    <tr>\n",
       "      <th>store_type_판매업</th>\n",
       "      <td>0.0016</td>\n",
       "    </tr>\n",
       "    <tr>\n",
       "      <th>store_type_일식점</th>\n",
       "      <td>0.0001</td>\n",
       "    </tr>\n",
       "  </tbody>\n",
       "</table>\n",
       "</div>"
      ],
      "text/plain": [
       "                  Feature importances\n",
       "제곱미터당_권리금                      0.6629\n",
       "level                          0.1975\n",
       "distance                       0.0400\n",
       "popular                        0.0249\n",
       "CovidNum                       0.0243\n",
       "store_type_일반음식점               0.0228\n",
       "Num                            0.0090\n",
       "store_type_서비스업                0.0070\n",
       "store_type_휴게음식점               0.0053\n",
       "store_type_주류점                 0.0028\n",
       "store_type_기타업종                0.0019\n",
       "store_type_판매업                 0.0016\n",
       "store_type_일식점                 0.0001"
      ]
     },
     "execution_count": 354,
     "metadata": {},
     "output_type": "execute_result"
    }
   ],
   "source": [
    "pd.DataFrame(round((rf_top),4), columns=['Feature importances'])"
   ]
  },
  {
   "cell_type": "code",
   "execution_count": null,
   "id": "b2bfacbb",
   "metadata": {},
   "outputs": [],
   "source": []
  }
 ],
 "metadata": {
  "kernelspec": {
   "display_name": "Python 3 (ipykernel)",
   "language": "python",
   "name": "python3"
  },
  "language_info": {
   "codemirror_mode": {
    "name": "ipython",
    "version": 3
   },
   "file_extension": ".py",
   "mimetype": "text/x-python",
   "name": "python",
   "nbconvert_exporter": "python",
   "pygments_lexer": "ipython3",
   "version": "3.9.7"
  }
 },
 "nbformat": 4,
 "nbformat_minor": 5
}
